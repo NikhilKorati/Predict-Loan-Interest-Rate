{
  "nbformat": 4,
  "nbformat_minor": 0,
  "metadata": {
    "colab": {
      "name": "Loan Interest Predictor.ipynb",
      "version": "0.3.2",
      "provenance": [],
      "collapsed_sections": []
    },
    "kernelspec": {
      "name": "python3",
      "display_name": "Python 3"
    },
    "accelerator": "GPU"
  },
  "cells": [
    {
      "cell_type": "markdown",
      "metadata": {
        "id": "view-in-github",
        "colab_type": "text"
      },
      "source": [
        "[View in Colaboratory](https://colab.research.google.com/github/NikhilKorati/Predict-Loan-Interest-Rate/blob/master/Loan_Interest_Predictor.ipynb)"
      ]
    },
    {
      "metadata": {
        "id": "210Al2uLcgP5",
        "colab_type": "text"
      },
      "cell_type": "markdown",
      "source": [
        "##Predict Loan Interest Rate for an insurance company using customer's historical information"
      ]
    },
    {
      "metadata": {
        "id": "KvBMa-i95KBU",
        "colab_type": "text"
      },
      "cell_type": "markdown",
      "source": [
        "### Import Libraries and get the data"
      ]
    },
    {
      "metadata": {
        "id": "iBaqW9hka2UC",
        "colab_type": "code",
        "colab": {}
      },
      "cell_type": "code",
      "source": [
        "import pandas as pd\n",
        "import numpy as np\n",
        "import matplotlib.pyplot as plt\n",
        "%matplotlib inline\n",
        "import seaborn as sns"
      ],
      "execution_count": 0,
      "outputs": []
    },
    {
      "metadata": {
        "id": "yXEfaBFoczOV",
        "colab_type": "code",
        "colab": {
          "base_uri": "https://localhost:8080/",
          "height": 301
        },
        "outputId": "57145e83-54d2-4990-905b-943d1c04433a"
      },
      "cell_type": "code",
      "source": [
        "!wget https://www.dropbox.com/s/qmhmg9xfub03qhs/Personal%20Loans.xlsx"
      ],
      "execution_count": 2,
      "outputs": [
        {
          "output_type": "stream",
          "text": [
            "--2018-06-05 16:13:41--  https://www.dropbox.com/s/qmhmg9xfub03qhs/Personal%20Loans.xlsx\r\n",
            "Resolving www.dropbox.com (www.dropbox.com)... 162.125.66.1, 2620:100:601f:1::a27d:901\n",
            "Connecting to www.dropbox.com (www.dropbox.com)|162.125.66.1|:443... connected.\n",
            "HTTP request sent, awaiting response... 302 Found\n",
            "Location: https://dl.dropboxusercontent.com/content_link/h6wGyt7qNIIia3WEKrPFkcaRnjGpU4Bl0o4coC68VlZX9B5mH71zsB2kssm9Ukg5/file [following]\n",
            "--2018-06-05 16:13:42--  https://dl.dropboxusercontent.com/content_link/h6wGyt7qNIIia3WEKrPFkcaRnjGpU4Bl0o4coC68VlZX9B5mH71zsB2kssm9Ukg5/file\n",
            "Resolving dl.dropboxusercontent.com (dl.dropboxusercontent.com)... 162.125.9.6, 2620:100:601f:6::a27d:906\n",
            "Connecting to dl.dropboxusercontent.com (dl.dropboxusercontent.com)|162.125.9.6|:443... connected.\n",
            "HTTP request sent, awaiting response... 200 OK\n",
            "Length: 3624767 (3.5M) [application/vnd.openxmlformats-officedocument.spreadsheetml.sheet]\n",
            "Saving to: ‘Personal Loans.xlsx’\n",
            "\n",
            "Personal Loans.xlsx 100%[===================>]   3.46M  20.1MB/s    in 0.2s    \n",
            "\n",
            "2018-06-05 16:13:43 (20.1 MB/s) - ‘Personal Loans.xlsx’ saved [3624767/3624767]\n",
            "\n"
          ],
          "name": "stdout"
        }
      ]
    },
    {
      "metadata": {
        "id": "tD1Umfp2dVK1",
        "colab_type": "code",
        "colab": {
          "base_uri": "https://localhost:8080/",
          "height": 106
        },
        "outputId": "a55133bd-8419-4446-ef5b-c744b6429a91"
      },
      "cell_type": "code",
      "source": [
        "!pip3 install xlrd"
      ],
      "execution_count": 3,
      "outputs": [
        {
          "output_type": "stream",
          "text": [
            "Collecting xlrd\n",
            "\u001b[?25l  Downloading https://files.pythonhosted.org/packages/07/e6/e95c4eec6221bfd8528bcc4ea252a850bffcc4be88ebc367e23a1a84b0bb/xlrd-1.1.0-py2.py3-none-any.whl (108kB)\n",
            "\u001b[K    100% |████████████████████████████████| 112kB 1.5MB/s \n",
            "\u001b[?25hInstalling collected packages: xlrd\n",
            "Successfully installed xlrd-1.1.0\n"
          ],
          "name": "stdout"
        }
      ]
    },
    {
      "metadata": {
        "id": "GbJp3rJ-c4sS",
        "colab_type": "code",
        "colab": {}
      },
      "cell_type": "code",
      "source": [
        "loans_raw_df = pd.read_excel(io = 'Personal Loans.xlsx', sheet_name='Sheet1')"
      ],
      "execution_count": 0,
      "outputs": []
    },
    {
      "metadata": {
        "id": "dVplpHe95QlL",
        "colab_type": "text"
      },
      "cell_type": "markdown",
      "source": [
        "## Exploratory Analysis"
      ]
    },
    {
      "metadata": {
        "id": "v-F6cavmc-hY",
        "colab_type": "code",
        "colab": {
          "base_uri": "https://localhost:8080/",
          "height": 324
        },
        "outputId": "b94388c4-6790-4fc0-d510-f63fdf08ff50"
      },
      "cell_type": "code",
      "source": [
        "loans_raw_df.head()"
      ],
      "execution_count": 5,
      "outputs": [
        {
          "output_type": "execute_result",
          "data": {
            "text/html": [
              "<div>\n",
              "<style scoped>\n",
              "    .dataframe tbody tr th:only-of-type {\n",
              "        vertical-align: middle;\n",
              "    }\n",
              "\n",
              "    .dataframe tbody tr th {\n",
              "        vertical-align: top;\n",
              "    }\n",
              "\n",
              "    .dataframe thead th {\n",
              "        text-align: right;\n",
              "    }\n",
              "</style>\n",
              "<table border=\"1\" class=\"dataframe\">\n",
              "  <thead>\n",
              "    <tr style=\"text-align: right;\">\n",
              "      <th></th>\n",
              "      <th>ID</th>\n",
              "      <th>Amt Requested</th>\n",
              "      <th>Amt Funded</th>\n",
              "      <th>Length</th>\n",
              "      <th>Monthly Pmt</th>\n",
              "      <th>Pmts to Date</th>\n",
              "      <th>State</th>\n",
              "      <th>Income</th>\n",
              "      <th>Open LoC</th>\n",
              "      <th>Total LoC</th>\n",
              "      <th>...</th>\n",
              "      <th>Purpose</th>\n",
              "      <th>FICO</th>\n",
              "      <th>Home</th>\n",
              "      <th>Utilization</th>\n",
              "      <th>Rate</th>\n",
              "      <th>D/I</th>\n",
              "      <th>Standing</th>\n",
              "      <th>Balance</th>\n",
              "      <th>Delinquent</th>\n",
              "      <th>Months</th>\n",
              "    </tr>\n",
              "  </thead>\n",
              "  <tbody>\n",
              "    <tr>\n",
              "      <th>0</th>\n",
              "      <td>1</td>\n",
              "      <td>3300</td>\n",
              "      <td>3300.0</td>\n",
              "      <td>36 months</td>\n",
              "      <td>111.29</td>\n",
              "      <td>1110.10</td>\n",
              "      <td>KY</td>\n",
              "      <td>1700.00</td>\n",
              "      <td>6</td>\n",
              "      <td>15</td>\n",
              "      <td>...</td>\n",
              "      <td>Renewable Energy</td>\n",
              "      <td>660-680</td>\n",
              "      <td>Mortgage</td>\n",
              "      <td>0.087</td>\n",
              "      <td>0.1306</td>\n",
              "      <td>0.0659</td>\n",
              "      <td>Currently paying</td>\n",
              "      <td>624</td>\n",
              "      <td>1</td>\n",
              "      <td>6.0</td>\n",
              "    </tr>\n",
              "    <tr>\n",
              "      <th>1</th>\n",
              "      <td>2</td>\n",
              "      <td>4800</td>\n",
              "      <td>4800.0</td>\n",
              "      <td>36 months</td>\n",
              "      <td>157.13</td>\n",
              "      <td>1095.99</td>\n",
              "      <td>CO</td>\n",
              "      <td>1650.00</td>\n",
              "      <td>3</td>\n",
              "      <td>12</td>\n",
              "      <td>...</td>\n",
              "      <td>Moving</td>\n",
              "      <td>716-750</td>\n",
              "      <td>Rent</td>\n",
              "      <td>0.000</td>\n",
              "      <td>0.1099</td>\n",
              "      <td>0.2370</td>\n",
              "      <td>Currently paying</td>\n",
              "      <td>0</td>\n",
              "      <td>0</td>\n",
              "      <td>NaN</td>\n",
              "    </tr>\n",
              "    <tr>\n",
              "      <th>2</th>\n",
              "      <td>3</td>\n",
              "      <td>8700</td>\n",
              "      <td>8700.0</td>\n",
              "      <td>36 months</td>\n",
              "      <td>272.15</td>\n",
              "      <td>5432.20</td>\n",
              "      <td>FL</td>\n",
              "      <td>5416.67</td>\n",
              "      <td>11</td>\n",
              "      <td>20</td>\n",
              "      <td>...</td>\n",
              "      <td>Consolidate Debt</td>\n",
              "      <td>716-750</td>\n",
              "      <td>Own</td>\n",
              "      <td>0.311</td>\n",
              "      <td>0.0788</td>\n",
              "      <td>0.1338</td>\n",
              "      <td>Currently paying</td>\n",
              "      <td>8568</td>\n",
              "      <td>0</td>\n",
              "      <td>NaN</td>\n",
              "    </tr>\n",
              "    <tr>\n",
              "      <th>3</th>\n",
              "      <td>4</td>\n",
              "      <td>12300</td>\n",
              "      <td>1325.0</td>\n",
              "      <td>36 months</td>\n",
              "      <td>417.25</td>\n",
              "      <td>13535.28</td>\n",
              "      <td>CA</td>\n",
              "      <td>2667.00</td>\n",
              "      <td>15</td>\n",
              "      <td>22</td>\n",
              "      <td>...</td>\n",
              "      <td>Consolidate Debt</td>\n",
              "      <td>681-715</td>\n",
              "      <td>Rent</td>\n",
              "      <td>0.291</td>\n",
              "      <td>0.1347</td>\n",
              "      <td>0.2208</td>\n",
              "      <td>Paid</td>\n",
              "      <td>10543</td>\n",
              "      <td>0</td>\n",
              "      <td>NaN</td>\n",
              "    </tr>\n",
              "    <tr>\n",
              "      <th>4</th>\n",
              "      <td>5</td>\n",
              "      <td>11200</td>\n",
              "      <td>11200.0</td>\n",
              "      <td>36 months</td>\n",
              "      <td>343.89</td>\n",
              "      <td>1030.65</td>\n",
              "      <td>NY</td>\n",
              "      <td>4333.33</td>\n",
              "      <td>13</td>\n",
              "      <td>26</td>\n",
              "      <td>...</td>\n",
              "      <td>Consolidate Debt</td>\n",
              "      <td>716-750</td>\n",
              "      <td>Rent</td>\n",
              "      <td>0.570</td>\n",
              "      <td>0.0662</td>\n",
              "      <td>0.1138</td>\n",
              "      <td>Currently paying</td>\n",
              "      <td>21379</td>\n",
              "      <td>0</td>\n",
              "      <td>NaN</td>\n",
              "    </tr>\n",
              "  </tbody>\n",
              "</table>\n",
              "<p>5 rows × 21 columns</p>\n",
              "</div>"
            ],
            "text/plain": [
              "   ID  Amt Requested  Amt Funded     Length  Monthly Pmt  Pmts to Date State  \\\n",
              "0   1           3300      3300.0  36 months       111.29       1110.10    KY   \n",
              "1   2           4800      4800.0  36 months       157.13       1095.99    CO   \n",
              "2   3           8700      8700.0  36 months       272.15       5432.20    FL   \n",
              "3   4          12300      1325.0  36 months       417.25      13535.28    CA   \n",
              "4   5          11200     11200.0  36 months       343.89       1030.65    NY   \n",
              "\n",
              "    Income  Open LoC  Total LoC   ...             Purpose     FICO      Home  \\\n",
              "0  1700.00         6         15   ...    Renewable Energy  660-680  Mortgage   \n",
              "1  1650.00         3         12   ...              Moving  716-750      Rent   \n",
              "2  5416.67        11         20   ...    Consolidate Debt  716-750       Own   \n",
              "3  2667.00        15         22   ...    Consolidate Debt  681-715      Rent   \n",
              "4  4333.33        13         26   ...    Consolidate Debt  716-750      Rent   \n",
              "\n",
              "  Utilization    Rate     D/I          Standing Balance  Delinquent  Months  \n",
              "0       0.087  0.1306  0.0659  Currently paying     624           1     6.0  \n",
              "1       0.000  0.1099  0.2370  Currently paying       0           0     NaN  \n",
              "2       0.311  0.0788  0.1338  Currently paying    8568           0     NaN  \n",
              "3       0.291  0.1347  0.2208              Paid   10543           0     NaN  \n",
              "4       0.570  0.0662  0.1138  Currently paying   21379           0     NaN  \n",
              "\n",
              "[5 rows x 21 columns]"
            ]
          },
          "metadata": {
            "tags": []
          },
          "execution_count": 5
        }
      ]
    },
    {
      "metadata": {
        "id": "rMnm5saBdamW",
        "colab_type": "code",
        "colab": {
          "base_uri": "https://localhost:8080/",
          "height": 341
        },
        "outputId": "4e415c58-1528-48f1-ff95-c29a2872fe88"
      },
      "cell_type": "code",
      "source": [
        "loans_raw_df.tail()"
      ],
      "execution_count": 6,
      "outputs": [
        {
          "output_type": "execute_result",
          "data": {
            "text/html": [
              "<div>\n",
              "<style scoped>\n",
              "    .dataframe tbody tr th:only-of-type {\n",
              "        vertical-align: middle;\n",
              "    }\n",
              "\n",
              "    .dataframe tbody tr th {\n",
              "        vertical-align: top;\n",
              "    }\n",
              "\n",
              "    .dataframe thead th {\n",
              "        text-align: right;\n",
              "    }\n",
              "</style>\n",
              "<table border=\"1\" class=\"dataframe\">\n",
              "  <thead>\n",
              "    <tr style=\"text-align: right;\">\n",
              "      <th></th>\n",
              "      <th>ID</th>\n",
              "      <th>Amt Requested</th>\n",
              "      <th>Amt Funded</th>\n",
              "      <th>Length</th>\n",
              "      <th>Monthly Pmt</th>\n",
              "      <th>Pmts to Date</th>\n",
              "      <th>State</th>\n",
              "      <th>Income</th>\n",
              "      <th>Open LoC</th>\n",
              "      <th>Total LoC</th>\n",
              "      <th>...</th>\n",
              "      <th>Purpose</th>\n",
              "      <th>FICO</th>\n",
              "      <th>Home</th>\n",
              "      <th>Utilization</th>\n",
              "      <th>Rate</th>\n",
              "      <th>D/I</th>\n",
              "      <th>Standing</th>\n",
              "      <th>Balance</th>\n",
              "      <th>Delinquent</th>\n",
              "      <th>Months</th>\n",
              "    </tr>\n",
              "  </thead>\n",
              "  <tbody>\n",
              "    <tr>\n",
              "      <th>29046</th>\n",
              "      <td>29047</td>\n",
              "      <td>8875</td>\n",
              "      <td>8875.0</td>\n",
              "      <td>36 months</td>\n",
              "      <td>276.56</td>\n",
              "      <td>0.00</td>\n",
              "      <td>CO</td>\n",
              "      <td>5187.50</td>\n",
              "      <td>14</td>\n",
              "      <td>32</td>\n",
              "      <td>...</td>\n",
              "      <td>Consolidate Debt</td>\n",
              "      <td>716-750</td>\n",
              "      <td>Mortgage</td>\n",
              "      <td>0.639</td>\n",
              "      <td>0.0762</td>\n",
              "      <td>0.2674</td>\n",
              "      <td>No payment due</td>\n",
              "      <td>22370</td>\n",
              "      <td>0</td>\n",
              "      <td>NaN</td>\n",
              "    </tr>\n",
              "    <tr>\n",
              "      <th>29047</th>\n",
              "      <td>29048</td>\n",
              "      <td>20000</td>\n",
              "      <td>20000.0</td>\n",
              "      <td>60 months</td>\n",
              "      <td>465.27</td>\n",
              "      <td>2325.78</td>\n",
              "      <td>RI</td>\n",
              "      <td>5416.67</td>\n",
              "      <td>18</td>\n",
              "      <td>29</td>\n",
              "      <td>...</td>\n",
              "      <td>Credit Card</td>\n",
              "      <td>716-750</td>\n",
              "      <td>Own</td>\n",
              "      <td>0.613</td>\n",
              "      <td>0.1399</td>\n",
              "      <td>0.0746</td>\n",
              "      <td>Late</td>\n",
              "      <td>16738</td>\n",
              "      <td>1</td>\n",
              "      <td>19.0</td>\n",
              "    </tr>\n",
              "    <tr>\n",
              "      <th>29048</th>\n",
              "      <td>29049</td>\n",
              "      <td>20000</td>\n",
              "      <td>20000.0</td>\n",
              "      <td>60 months</td>\n",
              "      <td>531.11</td>\n",
              "      <td>22583.31</td>\n",
              "      <td>AL</td>\n",
              "      <td>5791.67</td>\n",
              "      <td>11</td>\n",
              "      <td>28</td>\n",
              "      <td>...</td>\n",
              "      <td>Consolidate Debt</td>\n",
              "      <td>660-680</td>\n",
              "      <td>Mortgage</td>\n",
              "      <td>0.670</td>\n",
              "      <td>0.2011</td>\n",
              "      <td>0.2119</td>\n",
              "      <td>Paid</td>\n",
              "      <td>12727</td>\n",
              "      <td>3</td>\n",
              "      <td>3.0</td>\n",
              "    </tr>\n",
              "    <tr>\n",
              "      <th>29049</th>\n",
              "      <td>29050</td>\n",
              "      <td>8000</td>\n",
              "      <td>8000.0</td>\n",
              "      <td>60 months</td>\n",
              "      <td>191.29</td>\n",
              "      <td>1709.28</td>\n",
              "      <td>LA</td>\n",
              "      <td>5000.00</td>\n",
              "      <td>14</td>\n",
              "      <td>39</td>\n",
              "      <td>...</td>\n",
              "      <td>Credit Card</td>\n",
              "      <td>681-715</td>\n",
              "      <td>Rent</td>\n",
              "      <td>0.644</td>\n",
              "      <td>0.1523</td>\n",
              "      <td>0.1996</td>\n",
              "      <td>Currently paying</td>\n",
              "      <td>44054</td>\n",
              "      <td>0</td>\n",
              "      <td>NaN</td>\n",
              "    </tr>\n",
              "    <tr>\n",
              "      <th>29050</th>\n",
              "      <td>29051</td>\n",
              "      <td>6000</td>\n",
              "      <td>6000.0</td>\n",
              "      <td>60 months</td>\n",
              "      <td>153.18</td>\n",
              "      <td>1673.10</td>\n",
              "      <td>CA</td>\n",
              "      <td>3750.00</td>\n",
              "      <td>8</td>\n",
              "      <td>8</td>\n",
              "      <td>...</td>\n",
              "      <td>Consolidate Debt</td>\n",
              "      <td>660-680</td>\n",
              "      <td>Rent</td>\n",
              "      <td>0.707</td>\n",
              "      <td>0.1825</td>\n",
              "      <td>0.0384</td>\n",
              "      <td>Currently paying</td>\n",
              "      <td>3183</td>\n",
              "      <td>0</td>\n",
              "      <td>NaN</td>\n",
              "    </tr>\n",
              "  </tbody>\n",
              "</table>\n",
              "<p>5 rows × 21 columns</p>\n",
              "</div>"
            ],
            "text/plain": [
              "          ID  Amt Requested  Amt Funded     Length  Monthly Pmt  Pmts to Date  \\\n",
              "29046  29047           8875      8875.0  36 months       276.56          0.00   \n",
              "29047  29048          20000     20000.0  60 months       465.27       2325.78   \n",
              "29048  29049          20000     20000.0  60 months       531.11      22583.31   \n",
              "29049  29050           8000      8000.0  60 months       191.29       1709.28   \n",
              "29050  29051           6000      6000.0  60 months       153.18       1673.10   \n",
              "\n",
              "      State   Income  Open LoC  Total LoC   ...             Purpose     FICO  \\\n",
              "29046    CO  5187.50        14         32   ...    Consolidate Debt  716-750   \n",
              "29047    RI  5416.67        18         29   ...         Credit Card  716-750   \n",
              "29048    AL  5791.67        11         28   ...    Consolidate Debt  660-680   \n",
              "29049    LA  5000.00        14         39   ...         Credit Card  681-715   \n",
              "29050    CA  3750.00         8          8   ...    Consolidate Debt  660-680   \n",
              "\n",
              "           Home Utilization    Rate     D/I          Standing Balance  \\\n",
              "29046  Mortgage       0.639  0.0762  0.2674    No payment due   22370   \n",
              "29047       Own       0.613  0.1399  0.0746              Late   16738   \n",
              "29048  Mortgage       0.670  0.2011  0.2119              Paid   12727   \n",
              "29049      Rent       0.644  0.1523  0.1996  Currently paying   44054   \n",
              "29050      Rent       0.707  0.1825  0.0384  Currently paying    3183   \n",
              "\n",
              "       Delinquent  Months  \n",
              "29046           0     NaN  \n",
              "29047           1    19.0  \n",
              "29048           3     3.0  \n",
              "29049           0     NaN  \n",
              "29050           0     NaN  \n",
              "\n",
              "[5 rows x 21 columns]"
            ]
          },
          "metadata": {
            "tags": []
          },
          "execution_count": 6
        }
      ]
    },
    {
      "metadata": {
        "id": "4YkbrPZid81p",
        "colab_type": "code",
        "colab": {
          "base_uri": "https://localhost:8080/",
          "height": 52
        },
        "outputId": "66ba5d90-4474-425d-d18a-8e5ce86ebc6f"
      },
      "cell_type": "code",
      "source": [
        "print('No of observations: %d \\nNo of features: %s' % (loans_raw_df.shape[0], loans_raw_df.shape[1]))"
      ],
      "execution_count": 7,
      "outputs": [
        {
          "output_type": "stream",
          "text": [
            "No of observations: 29051 \n",
            "No of features: 21\n"
          ],
          "name": "stdout"
        }
      ]
    },
    {
      "metadata": {
        "id": "cOV8VKmOeIu4",
        "colab_type": "code",
        "colab": {
          "base_uri": "https://localhost:8080/",
          "height": 479
        },
        "outputId": "6009654e-0dd4-4938-f0f3-fceb07e1acdd"
      },
      "cell_type": "code",
      "source": [
        "loans_raw_df.info()"
      ],
      "execution_count": 8,
      "outputs": [
        {
          "output_type": "stream",
          "text": [
            "<class 'pandas.core.frame.DataFrame'>\n",
            "RangeIndex: 29051 entries, 0 to 29050\n",
            "Data columns (total 21 columns):\n",
            "ID               29051 non-null int64\n",
            "Amt Requested    29051 non-null int64\n",
            "Amt Funded       29051 non-null float64\n",
            "Length           29051 non-null object\n",
            "Monthly Pmt      29051 non-null float64\n",
            "Pmts to Date     29051 non-null float64\n",
            "State            29051 non-null object\n",
            "Income           29051 non-null float64\n",
            "Open LoC         29051 non-null int64\n",
            "Total LoC        29051 non-null int64\n",
            "Employ           28211 non-null object\n",
            "Purpose          29051 non-null object\n",
            "FICO             29051 non-null object\n",
            "Home             29051 non-null object\n",
            "Utilization      29009 non-null float64\n",
            "Rate             29051 non-null float64\n",
            "D/I              29051 non-null float64\n",
            "Standing         29051 non-null object\n",
            "Balance          29051 non-null int64\n",
            "Delinquent       29051 non-null int64\n",
            "Months           10070 non-null float64\n",
            "dtypes: float64(8), int64(6), object(7)\n",
            "memory usage: 4.7+ MB\n"
          ],
          "name": "stdout"
        }
      ]
    },
    {
      "metadata": {
        "id": "kPc-NRJ85UAE",
        "colab_type": "text"
      },
      "cell_type": "markdown",
      "source": [
        "### Check for missing values"
      ]
    },
    {
      "metadata": {
        "id": "o0COL7QIeLTz",
        "colab_type": "code",
        "colab": {
          "base_uri": "https://localhost:8080/",
          "height": 408
        },
        "outputId": "3fd07da7-f55e-4a43-c7b9-aaa3717f71e4"
      },
      "cell_type": "code",
      "source": [
        "loans_raw_df.isnull().sum()"
      ],
      "execution_count": 9,
      "outputs": [
        {
          "output_type": "execute_result",
          "data": {
            "text/plain": [
              "ID                   0\n",
              "Amt Requested        0\n",
              "Amt Funded           0\n",
              "Length               0\n",
              "Monthly Pmt          0\n",
              "Pmts to Date         0\n",
              "State                0\n",
              "Income               0\n",
              "Open LoC             0\n",
              "Total LoC            0\n",
              "Employ             840\n",
              "Purpose              0\n",
              "FICO                 0\n",
              "Home                 0\n",
              "Utilization         42\n",
              "Rate                 0\n",
              "D/I                  0\n",
              "Standing             0\n",
              "Balance              0\n",
              "Delinquent           0\n",
              "Months           18981\n",
              "dtype: int64"
            ]
          },
          "metadata": {
            "tags": []
          },
          "execution_count": 9
        }
      ]
    },
    {
      "metadata": {
        "id": "juMh4Jjy5W4e",
        "colab_type": "text"
      },
      "cell_type": "markdown",
      "source": [
        "### Drop ID as it is just an identifier"
      ]
    },
    {
      "metadata": {
        "id": "ZWCWKW75fyeZ",
        "colab_type": "code",
        "colab": {}
      },
      "cell_type": "code",
      "source": [
        "loans_raw_df.drop('ID', axis=1, inplace=True)"
      ],
      "execution_count": 0,
      "outputs": []
    },
    {
      "metadata": {
        "id": "v17FAO8KfGHV",
        "colab_type": "code",
        "colab": {
          "base_uri": "https://localhost:8080/",
          "height": 124
        },
        "outputId": "f90c30ac-0613-4eed-80a0-f85671c4aa8c"
      },
      "cell_type": "code",
      "source": [
        "np.sort(loans_raw_df['State'].unique())"
      ],
      "execution_count": 11,
      "outputs": [
        {
          "output_type": "execute_result",
          "data": {
            "text/plain": [
              "array(['AK', 'AL', 'AR', 'AZ', 'CA', 'CO', 'CT', 'DC', 'DE', 'FL', 'GA',\n",
              "       'HI', 'IA', 'ID', 'IL', 'IN', 'Ill', 'KS', 'KY', 'LA', 'MA', 'MD',\n",
              "       'ME', 'MI', 'MN', 'MO', 'MS', 'MT', 'NC', 'NE', 'NH', 'NJ', 'NM',\n",
              "       'NV', 'NY', 'OH', 'OK', 'OR', 'PA', 'RI', 'SC', 'SD', 'TN', 'TX',\n",
              "       'Tex', 'UT', 'VA', 'VT', 'WA', 'WI', 'WISC', 'WV', 'WY'],\n",
              "      dtype=object)"
            ]
          },
          "metadata": {
            "tags": []
          },
          "execution_count": 11
        }
      ]
    },
    {
      "metadata": {
        "id": "mwcf70385bWv",
        "colab_type": "text"
      },
      "cell_type": "markdown",
      "source": [
        "### Clean the State feature"
      ]
    },
    {
      "metadata": {
        "id": "QMtSthwNg7GQ",
        "colab_type": "code",
        "colab": {}
      },
      "cell_type": "code",
      "source": [
        "loans_raw_df.replace(to_replace='Ill', value='IL', inplace=True)\n",
        "loans_raw_df.replace(to_replace='Tex', value='TX', inplace=True)\n",
        "loans_raw_df.replace(to_replace='WISC', value='WI', inplace=True)"
      ],
      "execution_count": 0,
      "outputs": []
    },
    {
      "metadata": {
        "id": "ec8toaL_lTB2",
        "colab_type": "code",
        "colab": {
          "base_uri": "https://localhost:8080/",
          "height": 315
        },
        "outputId": "0224a39c-975d-44cd-9ad4-034179dba143"
      },
      "cell_type": "code",
      "source": [
        "sns.barplot(y='region', x='counts', data=pd.DataFrame(loans_raw_df['State'].value_counts()[:10].rename_axis('region').reset_index(name='counts')))\n",
        "plt.show()"
      ],
      "execution_count": 13,
      "outputs": [
        {
          "output_type": "stream",
          "text": [
            "/usr/local/lib/python3.6/dist-packages/seaborn/categorical.py:1428: FutureWarning: remove_na is deprecated and is a private function. Do not use.\n",
            "  stat_data = remove_na(group_data)\n"
          ],
          "name": "stderr"
        },
        {
          "output_type": "display_data",
          "data": {
            "image/png": "[encoded data removed]",
            "text/plain": [
              "<matplotlib.figure.Figure at 0x7face57b4400>"
            ]
          },
          "metadata": {
            "tags": []
          }
        }
      ]
    },
    {
      "metadata": {
        "id": "K9CUlaYLhUSu",
        "colab_type": "code",
        "colab": {}
      },
      "cell_type": "code",
      "source": [
        "northeast = ['CT', 'DC', 'DE', 'IA', 'IL', 'KS', 'KY', 'MA', 'ME', 'MI', 'MN', 'MS', 'MO', 'NH', 'NJ', 'NY', 'OH', 'PA', 'RI', 'VA', 'VT', 'WI', 'WV', 'IN']\n",
        "northwest = ['AK', 'CO', 'MT', 'NE', 'OK', 'OR', 'SD', 'UT', 'WA', 'WY', 'ID']\n",
        "southeast = ['AL', 'AR', 'FL', 'GA', 'HI', 'LA', 'MD', 'NC', 'NM', 'SC', 'TN']\n",
        "southwest = ['AZ', 'CA', 'NV', 'TX']\n",
        "\n",
        "loans_raw_df.replace(to_replace=northeast, value='north_east', inplace=True)\n",
        "loans_raw_df.replace(to_replace=northwest, value='north_west', inplace=True)\n",
        "loans_raw_df.replace(to_replace=southeast, value='south_east', inplace=True)\n",
        "loans_raw_df.replace(to_replace=southwest, value='south_west', inplace=True)"
      ],
      "execution_count": 0,
      "outputs": []
    },
    {
      "metadata": {
        "id": "JcjXp8E0kguC",
        "colab_type": "code",
        "colab": {
          "base_uri": "https://localhost:8080/",
          "height": 315
        },
        "outputId": "06cab3bb-a04a-49bf-b536-a4febc89daf0"
      },
      "cell_type": "code",
      "source": [
        "sns.barplot(y='region', x='counts', data=pd.DataFrame(loans_raw_df['State'].value_counts().rename_axis('region').reset_index(name='counts')))\n",
        "plt.show()"
      ],
      "execution_count": 15,
      "outputs": [
        {
          "output_type": "stream",
          "text": [
            "/usr/local/lib/python3.6/dist-packages/seaborn/categorical.py:1428: FutureWarning: remove_na is deprecated and is a private function. Do not use.\n",
            "  stat_data = remove_na(group_data)\n"
          ],
          "name": "stderr"
        },
        {
          "output_type": "display_data",
          "data": {
            "image/png": "[encoded data removed]",
            "text/plain": [
              "<matplotlib.figure.Figure at 0x7facceb08f98>"
            ]
          },
          "metadata": {
            "tags": []
          }
        }
      ]
    },
    {
      "metadata": {
        "id": "tw4jpQR45gkj",
        "colab_type": "text"
      },
      "cell_type": "markdown",
      "source": [
        "### Data Prep other features"
      ]
    },
    {
      "metadata": {
        "id": "uDjTicBUkzCJ",
        "colab_type": "code",
        "colab": {
          "base_uri": "https://localhost:8080/",
          "height": 70
        },
        "outputId": "45c89f09-fabd-4ff9-f027-390b5aff389b"
      },
      "cell_type": "code",
      "source": [
        "loans_raw_df['Length'].value_counts()"
      ],
      "execution_count": 16,
      "outputs": [
        {
          "output_type": "execute_result",
          "data": {
            "text/plain": [
              "36 months    21523\n",
              "60 months     7528\n",
              "Name: Length, dtype: int64"
            ]
          },
          "metadata": {
            "tags": []
          },
          "execution_count": 16
        }
      ]
    },
    {
      "metadata": {
        "id": "CFD283Nkl2vh",
        "colab_type": "code",
        "colab": {}
      },
      "cell_type": "code",
      "source": [
        "loans_raw_df['Length'].replace(to_replace='36 months', value = '36', inplace = True)\n",
        "loans_raw_df['Length'].replace(to_replace='60 months', value = '60', inplace = True)"
      ],
      "execution_count": 0,
      "outputs": []
    },
    {
      "metadata": {
        "id": "f1mTpLL9mIvS",
        "colab_type": "code",
        "colab": {
          "base_uri": "https://localhost:8080/",
          "height": 284
        },
        "outputId": "ad66319f-da63-462a-ba30-c30a5668a6e4"
      },
      "cell_type": "code",
      "source": [
        "loans_raw_df['Purpose'].value_counts()"
      ],
      "execution_count": 18,
      "outputs": [
        {
          "output_type": "execute_result",
          "data": {
            "text/plain": [
              "Consolidate Debt            14040\n",
              "Credit Card                  4038\n",
              "Other                        2665\n",
              "Home Improvement             2044\n",
              "Major Appliance Purchase     1489\n",
              "small_business               1360\n",
              "Wedding                      1077\n",
              "Car Loan                      658\n",
              "Medical Expenses              471\n",
              "Moving                        386\n",
              "Vacation                      292\n",
              "Household Expenses            260\n",
              "Educational Expenses          200\n",
              "Renewable Energy               71\n",
              "Name: Purpose, dtype: int64"
            ]
          },
          "metadata": {
            "tags": []
          },
          "execution_count": 18
        }
      ]
    },
    {
      "metadata": {
        "id": "ukfKRA-hmKCp",
        "colab_type": "code",
        "colab": {
          "base_uri": "https://localhost:8080/",
          "height": 124
        },
        "outputId": "4de8fa29-2ce2-4d6a-af32-47cc3e97c914"
      },
      "cell_type": "code",
      "source": [
        "loans_raw_df['Home'].value_counts()"
      ],
      "execution_count": 19,
      "outputs": [
        {
          "output_type": "execute_result",
          "data": {
            "text/plain": [
              "Rent        14059\n",
              "Mortgage    12688\n",
              "Own          2243\n",
              "Any            60\n",
              "None            1\n",
              "Name: Home, dtype: int64"
            ]
          },
          "metadata": {
            "tags": []
          },
          "execution_count": 19
        }
      ]
    },
    {
      "metadata": {
        "id": "hnGfCplHn1lW",
        "colab_type": "code",
        "colab": {}
      },
      "cell_type": "code",
      "source": [
        "loans_raw_df['Home'].replace(to_replace='Any', value = 'Other', inplace = True)\n",
        "loans_raw_df['Home'].replace(to_replace='None', value = 'Other', inplace = True)"
      ],
      "execution_count": 0,
      "outputs": []
    },
    {
      "metadata": {
        "id": "1SED6hc6oVsD",
        "colab_type": "code",
        "colab": {
          "base_uri": "https://localhost:8080/",
          "height": 106
        },
        "outputId": "4bee92e6-2d89-4016-b3cc-80993c00732b"
      },
      "cell_type": "code",
      "source": [
        "loans_raw_df['Home'].value_counts()"
      ],
      "execution_count": 21,
      "outputs": [
        {
          "output_type": "execute_result",
          "data": {
            "text/plain": [
              "Rent        14059\n",
              "Mortgage    12688\n",
              "Own          2243\n",
              "Other          61\n",
              "Name: Home, dtype: int64"
            ]
          },
          "metadata": {
            "tags": []
          },
          "execution_count": 21
        }
      ]
    },
    {
      "metadata": {
        "id": "VWR7gV48oW4h",
        "colab_type": "code",
        "colab": {
          "base_uri": "https://localhost:8080/",
          "height": 230
        },
        "outputId": "32946cc9-9f32-44d1-99ea-371d1eb8ddf6"
      },
      "cell_type": "code",
      "source": [
        "loans_raw_df['Employ'].value_counts()"
      ],
      "execution_count": 22,
      "outputs": [
        {
          "output_type": "execute_result",
          "data": {
            "text/plain": [
              "10+    6665\n",
              "< 1    3242\n",
              "2      3178\n",
              "3      2830\n",
              "4      2552\n",
              "5      2417\n",
              "1      2328\n",
              "6      1672\n",
              "7      1302\n",
              "8      1093\n",
              "9       932\n",
              "Name: Employ, dtype: int64"
            ]
          },
          "metadata": {
            "tags": []
          },
          "execution_count": 22
        }
      ]
    },
    {
      "metadata": {
        "id": "Y3O9m7oYpuYK",
        "colab_type": "code",
        "colab": {
          "base_uri": "https://localhost:8080/",
          "height": 124
        },
        "outputId": "dd24e633-a4a1-4952-b946-4a7d85b6325a"
      },
      "cell_type": "code",
      "source": [
        "loans_raw_df['Employ'].head()"
      ],
      "execution_count": 23,
      "outputs": [
        {
          "output_type": "execute_result",
          "data": {
            "text/plain": [
              "0      6\n",
              "1    NaN\n",
              "2      3\n",
              "3      3\n",
              "4    NaN\n",
              "Name: Employ, dtype: object"
            ]
          },
          "metadata": {
            "tags": []
          },
          "execution_count": 23
        }
      ]
    },
    {
      "metadata": {
        "id": "RMjhwxelqV30",
        "colab_type": "code",
        "colab": {}
      },
      "cell_type": "code",
      "source": [
        "loans_raw_df['Employ'] = loans_raw_df['Employ'].apply(str)"
      ],
      "execution_count": 0,
      "outputs": []
    },
    {
      "metadata": {
        "id": "EtBzdZs_odZq",
        "colab_type": "code",
        "colab": {}
      },
      "cell_type": "code",
      "source": [
        "loans_raw_df['Employ'].replace(to_replace='< 1', value = 'Less than 2', inplace = True)\n",
        "loans_raw_df['Employ'].replace(to_replace='1', value = 'Less than 2', inplace = True)\n",
        "loans_raw_df['Employ'].replace(to_replace='2', value = 'Less than 2', inplace = True)\n",
        "loans_raw_df['Employ'].replace(to_replace='3', value = 'Less than 4', inplace = True)\n",
        "loans_raw_df['Employ'].replace(to_replace='4', value = 'Less than 4', inplace = True)\n",
        "loans_raw_df['Employ'].replace(to_replace='5', value = 'Less than 6', inplace = True)\n",
        "loans_raw_df['Employ'].replace(to_replace='6', value = 'Less than 6', inplace = True)\n",
        "loans_raw_df['Employ'].replace(to_replace='7', value = 'Less than 9', inplace = True)\n",
        "loans_raw_df['Employ'].replace(to_replace='8', value = 'Less than 9', inplace = True)\n",
        "loans_raw_df['Employ'].replace(to_replace='9', value = 'Less than 9', inplace = True)\n",
        "loans_raw_df['Employ'].replace(to_replace='10+', value = 'More than 10', inplace = True)\n",
        "loans_raw_df['Employ'].replace(to_replace='nan', value = 'Other', inplace = True)"
      ],
      "execution_count": 0,
      "outputs": []
    },
    {
      "metadata": {
        "id": "aB7dbVVUqIo7",
        "colab_type": "code",
        "colab": {
          "base_uri": "https://localhost:8080/",
          "height": 141
        },
        "outputId": "171be301-e7e9-414a-d5d1-9ee92a1f22d3"
      },
      "cell_type": "code",
      "source": [
        "loans_raw_df['Employ'].value_counts()"
      ],
      "execution_count": 26,
      "outputs": [
        {
          "output_type": "execute_result",
          "data": {
            "text/plain": [
              "Less than 2     8748\n",
              "More than 10    6665\n",
              "Less than 4     5382\n",
              "Less than 6     4089\n",
              "Less than 9     3327\n",
              "Other            840\n",
              "Name: Employ, dtype: int64"
            ]
          },
          "metadata": {
            "tags": []
          },
          "execution_count": 26
        }
      ]
    },
    {
      "metadata": {
        "id": "xlxgHHInqKSv",
        "colab_type": "code",
        "colab": {
          "base_uri": "https://localhost:8080/",
          "height": 124
        },
        "outputId": "fb5f450a-9707-4d2e-fb83-5594014ff92e"
      },
      "cell_type": "code",
      "source": [
        "loans_raw_df['FICO'].value_counts()"
      ],
      "execution_count": 27,
      "outputs": [
        {
          "output_type": "execute_result",
          "data": {
            "text/plain": [
              "681-715    10315\n",
              "716-750     8676\n",
              "660-680     4557\n",
              "751-780     3901\n",
              "781+        1602\n",
              "Name: FICO, dtype: int64"
            ]
          },
          "metadata": {
            "tags": []
          },
          "execution_count": 27
        }
      ]
    },
    {
      "metadata": {
        "id": "gGUlTaGCq7V9",
        "colab_type": "code",
        "colab": {
          "base_uri": "https://localhost:8080/",
          "height": 124
        },
        "outputId": "e55a12dc-dd88-4e0b-e80f-4d7ec1fe9230"
      },
      "cell_type": "code",
      "source": [
        "loans_raw_df['Standing'].value_counts()"
      ],
      "execution_count": 28,
      "outputs": [
        {
          "output_type": "execute_result",
          "data": {
            "text/plain": [
              "Currently paying                      21136\n",
              "Paid                                   4239\n",
              "No payment due                         2191\n",
              "Extremely late/charged off/default     1329\n",
              "Late                                    156\n",
              "Name: Standing, dtype: int64"
            ]
          },
          "metadata": {
            "tags": []
          },
          "execution_count": 28
        }
      ]
    },
    {
      "metadata": {
        "id": "U9rncFHUrGMQ",
        "colab_type": "code",
        "colab": {}
      },
      "cell_type": "code",
      "source": [
        "loans_raw_df['Standing'].replace(to_replace = 'Currently paying', value = 'current', inplace = True)\n",
        "loans_raw_df['Standing'].replace(to_replace = 'Paid', value = 'paid', inplace = True)\n",
        "loans_raw_df['Standing'].replace(to_replace = 'No payment due', value = 'no_due', inplace = True)\n",
        "loans_raw_df['Standing'].replace(to_replace = 'Extremely late/charged off/default', value = 'default', inplace = True)\n",
        "loans_raw_df['Standing'].replace(to_replace = 'Late', value = 'late', inplace = True)"
      ],
      "execution_count": 0,
      "outputs": []
    },
    {
      "metadata": {
        "id": "6cveSnnprifW",
        "colab_type": "code",
        "colab": {
          "base_uri": "https://localhost:8080/",
          "height": 124
        },
        "outputId": "3732e168-e745-4746-d75e-ef6704463cdc"
      },
      "cell_type": "code",
      "source": [
        "loans_raw_df['Standing'].value_counts()"
      ],
      "execution_count": 30,
      "outputs": [
        {
          "output_type": "execute_result",
          "data": {
            "text/plain": [
              "current    21136\n",
              "paid        4239\n",
              "no_due      2191\n",
              "default     1329\n",
              "late         156\n",
              "Name: Standing, dtype: int64"
            ]
          },
          "metadata": {
            "tags": []
          },
          "execution_count": 30
        }
      ]
    },
    {
      "metadata": {
        "id": "Qd3W7rT4rjjz",
        "colab_type": "code",
        "colab": {
          "base_uri": "https://localhost:8080/",
          "height": 35
        },
        "outputId": "56bcf525-3fe3-4710-99b4-9e757bff4da9"
      },
      "cell_type": "code",
      "source": [
        "np.mean(loans_raw_df['Months']) "
      ],
      "execution_count": 31,
      "outputs": [
        {
          "output_type": "execute_result",
          "data": {
            "text/plain": [
              "36.189374379344585"
            ]
          },
          "metadata": {
            "tags": []
          },
          "execution_count": 31
        }
      ]
    },
    {
      "metadata": {
        "id": "gLbUvP3Uvvcw",
        "colab_type": "code",
        "colab": {
          "base_uri": "https://localhost:8080/",
          "height": 124
        },
        "outputId": "132cf09c-bbc1-4181-83df-4000a5b423aa"
      },
      "cell_type": "code",
      "source": [
        "loans_raw_df['Months'].head()"
      ],
      "execution_count": 32,
      "outputs": [
        {
          "output_type": "execute_result",
          "data": {
            "text/plain": [
              "0    6.0\n",
              "1    NaN\n",
              "2    NaN\n",
              "3    NaN\n",
              "4    NaN\n",
              "Name: Months, dtype: float64"
            ]
          },
          "metadata": {
            "tags": []
          },
          "execution_count": 32
        }
      ]
    },
    {
      "metadata": {
        "id": "7bz9uGpKu04H",
        "colab_type": "code",
        "colab": {}
      },
      "cell_type": "code",
      "source": [
        "loans_raw_df['Months'].fillna(np.mean(loans_raw_df['Months']), inplace = True)"
      ],
      "execution_count": 0,
      "outputs": []
    },
    {
      "metadata": {
        "id": "7GcsNOBau5SX",
        "colab_type": "code",
        "colab": {
          "base_uri": "https://localhost:8080/",
          "height": 500
        },
        "outputId": "b196d5eb-3475-4021-fab7-c2a6dfe57a39"
      },
      "cell_type": "code",
      "source": [
        "plt.figure(figsize=(15,8))\n",
        "sns.stripplot(data=loans_raw_df, orient=\"h\", palette=\"Set2\")"
      ],
      "execution_count": 34,
      "outputs": [
        {
          "output_type": "execute_result",
          "data": {
            "text/plain": [
              "<matplotlib.axes._subplots.AxesSubplot at 0x7facce146198>"
            ]
          },
          "metadata": {
            "tags": []
          },
          "execution_count": 34
        },
        {
          "output_type": "display_data",
          "data": {
            "image/png": "[encoded data removed]",
            "text/plain": [
              "<matplotlib.figure.Figure at 0x7faccdd18e48>"
            ]
          },
          "metadata": {
            "tags": []
          }
        }
      ]
    },
    {
      "metadata": {
        "id": "Mhmm_jq5whKT",
        "colab_type": "code",
        "colab": {
          "base_uri": "https://localhost:8080/",
          "height": 332
        },
        "outputId": "7d8276e7-45f8-42ed-f5be-725f641b330a"
      },
      "cell_type": "code",
      "source": [
        "sns.boxplot(x=loans_raw_df['Income'])"
      ],
      "execution_count": 35,
      "outputs": [
        {
          "output_type": "stream",
          "text": [
            "/usr/local/lib/python3.6/dist-packages/seaborn/categorical.py:454: FutureWarning: remove_na is deprecated and is a private function. Do not use.\n",
            "  box_data = remove_na(group_data)\n"
          ],
          "name": "stderr"
        },
        {
          "output_type": "execute_result",
          "data": {
            "text/plain": [
              "<matplotlib.axes._subplots.AxesSubplot at 0x7facce543b70>"
            ]
          },
          "metadata": {
            "tags": []
          },
          "execution_count": 35
        },
        {
          "output_type": "display_data",
          "data": {
            "image/png": "[encoded data removed]",
            "text/plain": [
              "<matplotlib.figure.Figure at 0x7facce3f1e80>"
            ]
          },
          "metadata": {
            "tags": []
          }
        }
      ]
    },
    {
      "metadata": {
        "id": "3WQNoC-o5nHC",
        "colab_type": "text"
      },
      "cell_type": "markdown",
      "source": [
        "### Remove possible outliers from Income feature"
      ]
    },
    {
      "metadata": {
        "id": "Kz95FlQRx8CD",
        "colab_type": "code",
        "colab": {}
      },
      "cell_type": "code",
      "source": [
        "loans_raw_df = loans_raw_df.loc[loans_raw_df['Income'] <=120000]"
      ],
      "execution_count": 0,
      "outputs": []
    },
    {
      "metadata": {
        "id": "4gS8XAGK0234",
        "colab_type": "code",
        "colab": {
          "base_uri": "https://localhost:8080/",
          "height": 585
        },
        "outputId": "fd99b940-182e-4e52-bae0-ccd4d229fc0e"
      },
      "cell_type": "code",
      "source": [
        "loans_raw_df.hist(figsize= (15,8))\n",
        "plt.tight_layout()\n",
        "plt.show()"
      ],
      "execution_count": 37,
      "outputs": [
        {
          "output_type": "display_data",
          "data": {
            "image/png": "[encoded data removed]",
            "text/plain": [
              "<matplotlib.figure.Figure at 0x7facce351748>"
            ]
          },
          "metadata": {
            "tags": []
          }
        }
      ]
    },
    {
      "metadata": {
        "id": "TCy9x_An2Vj_",
        "colab_type": "code",
        "colab": {
          "base_uri": "https://localhost:8080/",
          "height": 613
        },
        "outputId": "0ea60adf-c18b-4764-8c44-a763e04b8840"
      },
      "cell_type": "code",
      "source": [
        "d_corr = loans_raw_df.corr()\n",
        "\n",
        "mask = np.zeros_like(d_corr, dtype=np.bool)\n",
        "mask[np.triu_indices_from(mask)] = True\n",
        "cmap = sns.diverging_palette(220, 10, as_cmap=True)\n",
        "f, ax = plt.subplots(figsize=(11, 9))\n",
        "\n",
        "sns.heatmap(d_corr, mask=mask, cmap=cmap, vmax=.3, center=0,\n",
        "            square=True, linewidths=.5, cbar_kws={\"shrink\": .5})"
      ],
      "execution_count": 38,
      "outputs": [
        {
          "output_type": "execute_result",
          "data": {
            "text/plain": [
              "<matplotlib.axes._subplots.AxesSubplot at 0x7faccea28208>"
            ]
          },
          "metadata": {
            "tags": []
          },
          "execution_count": 38
        },
        {
          "output_type": "display_data",
          "data": {
            "image/png": "[encoded data removed]",
            "text/plain": [
              "<matplotlib.figure.Figure at 0x7faccd7409b0>"
            ]
          },
          "metadata": {
            "tags": []
          }
        }
      ]
    },
    {
      "metadata": {
        "id": "gB3etJWS5z-Q",
        "colab_type": "text"
      },
      "cell_type": "markdown",
      "source": [
        "### Remove correlated features"
      ]
    },
    {
      "metadata": {
        "id": "AG3jaCcE2qUm",
        "colab_type": "code",
        "colab": {
          "base_uri": "https://localhost:8080/",
          "height": 252
        },
        "outputId": "52919f14-4d0a-4361-aeb4-40766fbd4039"
      },
      "cell_type": "code",
      "source": [
        "loans_raw_df[['Amt Requested', 'Amt Funded', 'Monthly Pmt', 'Total LoC', 'Open LoC', 'Months', 'Delinquent']].corr()\n"
      ],
      "execution_count": 39,
      "outputs": [
        {
          "output_type": "execute_result",
          "data": {
            "text/html": [
              "<div>\n",
              "<style scoped>\n",
              "    .dataframe tbody tr th:only-of-type {\n",
              "        vertical-align: middle;\n",
              "    }\n",
              "\n",
              "    .dataframe tbody tr th {\n",
              "        vertical-align: top;\n",
              "    }\n",
              "\n",
              "    .dataframe thead th {\n",
              "        text-align: right;\n",
              "    }\n",
              "</style>\n",
              "<table border=\"1\" class=\"dataframe\">\n",
              "  <thead>\n",
              "    <tr style=\"text-align: right;\">\n",
              "      <th></th>\n",
              "      <th>Amt Requested</th>\n",
              "      <th>Amt Funded</th>\n",
              "      <th>Monthly Pmt</th>\n",
              "      <th>Total LoC</th>\n",
              "      <th>Open LoC</th>\n",
              "      <th>Months</th>\n",
              "      <th>Delinquent</th>\n",
              "    </tr>\n",
              "  </thead>\n",
              "  <tbody>\n",
              "    <tr>\n",
              "      <th>Amt Requested</th>\n",
              "      <td>1.000000</td>\n",
              "      <td>0.944577</td>\n",
              "      <td>0.923340</td>\n",
              "      <td>0.252645</td>\n",
              "      <td>0.174493</td>\n",
              "      <td>0.018533</td>\n",
              "      <td>-0.031038</td>\n",
              "    </tr>\n",
              "    <tr>\n",
              "      <th>Amt Funded</th>\n",
              "      <td>0.944577</td>\n",
              "      <td>1.000000</td>\n",
              "      <td>0.905854</td>\n",
              "      <td>0.238910</td>\n",
              "      <td>0.163680</td>\n",
              "      <td>0.038447</td>\n",
              "      <td>-0.039251</td>\n",
              "    </tr>\n",
              "    <tr>\n",
              "      <th>Monthly Pmt</th>\n",
              "      <td>0.923340</td>\n",
              "      <td>0.905854</td>\n",
              "      <td>1.000000</td>\n",
              "      <td>0.226597</td>\n",
              "      <td>0.169745</td>\n",
              "      <td>0.009972</td>\n",
              "      <td>-0.019031</td>\n",
              "    </tr>\n",
              "    <tr>\n",
              "      <th>Total LoC</th>\n",
              "      <td>0.252645</td>\n",
              "      <td>0.238910</td>\n",
              "      <td>0.226597</td>\n",
              "      <td>1.000000</td>\n",
              "      <td>0.682591</td>\n",
              "      <td>0.004638</td>\n",
              "      <td>0.064402</td>\n",
              "    </tr>\n",
              "    <tr>\n",
              "      <th>Open LoC</th>\n",
              "      <td>0.174493</td>\n",
              "      <td>0.163680</td>\n",
              "      <td>0.169745</td>\n",
              "      <td>0.682591</td>\n",
              "      <td>1.000000</td>\n",
              "      <td>0.016378</td>\n",
              "      <td>0.005857</td>\n",
              "    </tr>\n",
              "    <tr>\n",
              "      <th>Months</th>\n",
              "      <td>0.018533</td>\n",
              "      <td>0.038447</td>\n",
              "      <td>0.009972</td>\n",
              "      <td>0.004638</td>\n",
              "      <td>0.016378</td>\n",
              "      <td>1.000000</td>\n",
              "      <td>-0.532176</td>\n",
              "    </tr>\n",
              "    <tr>\n",
              "      <th>Delinquent</th>\n",
              "      <td>-0.031038</td>\n",
              "      <td>-0.039251</td>\n",
              "      <td>-0.019031</td>\n",
              "      <td>0.064402</td>\n",
              "      <td>0.005857</td>\n",
              "      <td>-0.532176</td>\n",
              "      <td>1.000000</td>\n",
              "    </tr>\n",
              "  </tbody>\n",
              "</table>\n",
              "</div>"
            ],
            "text/plain": [
              "               Amt Requested  Amt Funded  Monthly Pmt  Total LoC  Open LoC  \\\n",
              "Amt Requested       1.000000    0.944577     0.923340   0.252645  0.174493   \n",
              "Amt Funded          0.944577    1.000000     0.905854   0.238910  0.163680   \n",
              "Monthly Pmt         0.923340    0.905854     1.000000   0.226597  0.169745   \n",
              "Total LoC           0.252645    0.238910     0.226597   1.000000  0.682591   \n",
              "Open LoC            0.174493    0.163680     0.169745   0.682591  1.000000   \n",
              "Months              0.018533    0.038447     0.009972   0.004638  0.016378   \n",
              "Delinquent         -0.031038   -0.039251    -0.019031   0.064402  0.005857   \n",
              "\n",
              "                 Months  Delinquent  \n",
              "Amt Requested  0.018533   -0.031038  \n",
              "Amt Funded     0.038447   -0.039251  \n",
              "Monthly Pmt    0.009972   -0.019031  \n",
              "Total LoC      0.004638    0.064402  \n",
              "Open LoC       0.016378    0.005857  \n",
              "Months         1.000000   -0.532176  \n",
              "Delinquent    -0.532176    1.000000  "
            ]
          },
          "metadata": {
            "tags": []
          },
          "execution_count": 39
        }
      ]
    },
    {
      "metadata": {
        "id": "3sxm_8w9GUAT",
        "colab_type": "text"
      },
      "cell_type": "markdown",
      "source": [
        "Amt Requested - Amt Funded <br>\n",
        "Amt Requested - Monthly Pmt <br>\n",
        "Amt Funded - Monthly Pmt <br>\n",
        "Open LoC - Total LoC <br>\n"
      ]
    },
    {
      "metadata": {
        "id": "TfKXs1Ci57O5",
        "colab_type": "text"
      },
      "cell_type": "markdown",
      "source": [
        "### Transform Numerical features "
      ]
    },
    {
      "metadata": {
        "id": "fz8TLBba4BrK",
        "colab_type": "code",
        "colab": {}
      },
      "cell_type": "code",
      "source": [
        "loans_raw_df['Amt Requested'] = np.sqrt(loans_raw_df['Amt Requested'])\n",
        "loans_raw_df['Balance'] = np.sqrt(np.sqrt(loans_raw_df['Balance']))\n",
        "loans_raw_df['Open LoC'] = np.sqrt(np.sqrt(loans_raw_df['Open LoC']))\n",
        "loans_raw_df['Pmts to Date'] = np.sqrt(np.sqrt(loans_raw_df['Pmts to Date']))"
      ],
      "execution_count": 0,
      "outputs": []
    },
    {
      "metadata": {
        "id": "U5y_ssTyHmfe",
        "colab_type": "code",
        "colab": {
          "base_uri": "https://localhost:8080/",
          "height": 585
        },
        "outputId": "1ebd04de-5a41-403b-c30d-203fbfaf7f54"
      },
      "cell_type": "code",
      "source": [
        "loans_raw_df.hist(figsize= (15,8))\n",
        "plt.tight_layout()\n",
        "plt.show()"
      ],
      "execution_count": 41,
      "outputs": [
        {
          "output_type": "display_data",
          "data": {
            "image/png": "[encoded data removed]",
            "text/plain": [
              "<matplotlib.figure.Figure at 0x7facce0e1ef0>"
            ]
          },
          "metadata": {
            "tags": []
          }
        }
      ]
    },
    {
      "metadata": {
        "id": "FJ9MHYGIHzUR",
        "colab_type": "code",
        "colab": {}
      },
      "cell_type": "code",
      "source": [
        "loans_raw_df['Income'] = np.log(loans_raw_df['Income'])"
      ],
      "execution_count": 0,
      "outputs": []
    },
    {
      "metadata": {
        "id": "0Nvwl7BbIZ4u",
        "colab_type": "code",
        "colab": {}
      },
      "cell_type": "code",
      "source": [
        "loans_raw_df['Utilization'].fillna(np.mean(loans_raw_df['Utilization']), inplace = True)"
      ],
      "execution_count": 0,
      "outputs": []
    },
    {
      "metadata": {
        "id": "SExesnVCJQAG",
        "colab_type": "code",
        "colab": {
          "base_uri": "https://localhost:8080/",
          "height": 390
        },
        "outputId": "139c5b07-babf-47b9-bfa1-e28619b0e55f"
      },
      "cell_type": "code",
      "source": [
        "loans_raw_df.isnull().sum()"
      ],
      "execution_count": 44,
      "outputs": [
        {
          "output_type": "execute_result",
          "data": {
            "text/plain": [
              "Amt Requested    0\n",
              "Amt Funded       0\n",
              "Length           0\n",
              "Monthly Pmt      0\n",
              "Pmts to Date     0\n",
              "State            0\n",
              "Income           0\n",
              "Open LoC         0\n",
              "Total LoC        0\n",
              "Employ           0\n",
              "Purpose          0\n",
              "FICO             0\n",
              "Home             0\n",
              "Utilization      0\n",
              "Rate             0\n",
              "D/I              0\n",
              "Standing         0\n",
              "Balance          0\n",
              "Delinquent       0\n",
              "Months           0\n",
              "dtype: int64"
            ]
          },
          "metadata": {
            "tags": []
          },
          "execution_count": 44
        }
      ]
    },
    {
      "metadata": {
        "id": "IflDhhlaJjUQ",
        "colab_type": "code",
        "colab": {}
      },
      "cell_type": "code",
      "source": [
        "loans_process_df = loans_raw_df"
      ],
      "execution_count": 0,
      "outputs": []
    },
    {
      "metadata": {
        "id": "1CPSAvkfKXmq",
        "colab_type": "code",
        "colab": {
          "base_uri": "https://localhost:8080/",
          "height": 461
        },
        "outputId": "4bff134c-e654-46a5-8b0d-a1697e984e1e"
      },
      "cell_type": "code",
      "source": [
        "loans_process_df.info()"
      ],
      "execution_count": 46,
      "outputs": [
        {
          "output_type": "stream",
          "text": [
            "<class 'pandas.core.frame.DataFrame'>\n",
            "Int64Index: 29048 entries, 0 to 29050\n",
            "Data columns (total 20 columns):\n",
            "Amt Requested    29048 non-null float64\n",
            "Amt Funded       29048 non-null float64\n",
            "Length           29048 non-null object\n",
            "Monthly Pmt      29048 non-null float64\n",
            "Pmts to Date     29048 non-null float64\n",
            "State            29048 non-null object\n",
            "Income           29048 non-null float64\n",
            "Open LoC         29048 non-null float64\n",
            "Total LoC        29048 non-null int64\n",
            "Employ           29048 non-null object\n",
            "Purpose          29048 non-null object\n",
            "FICO             29048 non-null object\n",
            "Home             29048 non-null object\n",
            "Utilization      29048 non-null float64\n",
            "Rate             29048 non-null float64\n",
            "D/I              29048 non-null float64\n",
            "Standing         29048 non-null object\n",
            "Balance          29048 non-null float64\n",
            "Delinquent       29048 non-null int64\n",
            "Months           29048 non-null float64\n",
            "dtypes: float64(11), int64(2), object(7)\n",
            "memory usage: 4.7+ MB\n"
          ],
          "name": "stdout"
        }
      ]
    },
    {
      "metadata": {
        "id": "3MZ2s-q65-Wo",
        "colab_type": "text"
      },
      "cell_type": "markdown",
      "source": [
        "### Create dummy variables for Categorical features"
      ]
    },
    {
      "metadata": {
        "id": "J6jZuzBHKU-T",
        "colab_type": "code",
        "colab": {}
      },
      "cell_type": "code",
      "source": [
        "dummy_columns = ['Length', 'State', 'Employ', 'Purpose', 'FICO', 'Home', 'Standing']\n",
        "\n",
        "data_new = loans_process_df\n",
        "\n",
        "for cat in dummy_columns:\n",
        "    dummy_cols = pd.get_dummies(loans_process_df[cat], prefix=cat, drop_first=True)\n",
        "    data_new = data_new.join(dummy_cols)"
      ],
      "execution_count": 0,
      "outputs": []
    },
    {
      "metadata": {
        "id": "I74Lad_xKt89",
        "colab_type": "code",
        "colab": {
          "base_uri": "https://localhost:8080/",
          "height": 835
        },
        "outputId": "247fafde-4395-4101-d020-780194dfcffa"
      },
      "cell_type": "code",
      "source": [
        "data_vars = data_new.columns.values.tolist()\n",
        "to_keep = [i for i in data_vars if i not in dummy_columns]\n",
        "to_keep"
      ],
      "execution_count": 48,
      "outputs": [
        {
          "output_type": "execute_result",
          "data": {
            "text/plain": [
              "['Amt Requested',\n",
              " 'Amt Funded',\n",
              " 'Monthly Pmt',\n",
              " 'Pmts to Date',\n",
              " 'Income',\n",
              " 'Open LoC',\n",
              " 'Total LoC',\n",
              " 'Utilization',\n",
              " 'Rate',\n",
              " 'D/I',\n",
              " 'Balance',\n",
              " 'Delinquent',\n",
              " 'Months',\n",
              " 'Length_60',\n",
              " 'State_north_west',\n",
              " 'State_south_east',\n",
              " 'State_south_west',\n",
              " 'Employ_Less than 4',\n",
              " 'Employ_Less than 6',\n",
              " 'Employ_Less than 9',\n",
              " 'Employ_More than 10',\n",
              " 'Employ_Other',\n",
              " 'Purpose_Consolidate Debt',\n",
              " 'Purpose_Credit Card',\n",
              " 'Purpose_Educational Expenses',\n",
              " 'Purpose_Home Improvement',\n",
              " 'Purpose_Household Expenses',\n",
              " 'Purpose_Major Appliance Purchase',\n",
              " 'Purpose_Medical Expenses',\n",
              " 'Purpose_Moving',\n",
              " 'Purpose_Other',\n",
              " 'Purpose_Renewable Energy',\n",
              " 'Purpose_Vacation',\n",
              " 'Purpose_Wedding',\n",
              " 'Purpose_small_business',\n",
              " 'FICO_681-715',\n",
              " 'FICO_716-750',\n",
              " 'FICO_751-780',\n",
              " 'FICO_781+',\n",
              " 'Home_Other',\n",
              " 'Home_Own',\n",
              " 'Home_Rent',\n",
              " 'Standing_default',\n",
              " 'Standing_late',\n",
              " 'Standing_no_due',\n",
              " 'Standing_paid']"
            ]
          },
          "metadata": {
            "tags": []
          },
          "execution_count": 48
        }
      ]
    },
    {
      "metadata": {
        "id": "G0AEVujlKxBA",
        "colab_type": "code",
        "colab": {
          "base_uri": "https://localhost:8080/",
          "height": 260
        },
        "outputId": "b93fd42d-6d4a-497a-99c6-c555fdbc508a"
      },
      "cell_type": "code",
      "source": [
        "final_loans_df = data_new[to_keep]\n",
        "final_loans_df.head()"
      ],
      "execution_count": 49,
      "outputs": [
        {
          "output_type": "execute_result",
          "data": {
            "text/html": [
              "<div>\n",
              "<style scoped>\n",
              "    .dataframe tbody tr th:only-of-type {\n",
              "        vertical-align: middle;\n",
              "    }\n",
              "\n",
              "    .dataframe tbody tr th {\n",
              "        vertical-align: top;\n",
              "    }\n",
              "\n",
              "    .dataframe thead th {\n",
              "        text-align: right;\n",
              "    }\n",
              "</style>\n",
              "<table border=\"1\" class=\"dataframe\">\n",
              "  <thead>\n",
              "    <tr style=\"text-align: right;\">\n",
              "      <th></th>\n",
              "      <th>Amt Requested</th>\n",
              "      <th>Amt Funded</th>\n",
              "      <th>Monthly Pmt</th>\n",
              "      <th>Pmts to Date</th>\n",
              "      <th>Income</th>\n",
              "      <th>Open LoC</th>\n",
              "      <th>Total LoC</th>\n",
              "      <th>Utilization</th>\n",
              "      <th>Rate</th>\n",
              "      <th>D/I</th>\n",
              "      <th>...</th>\n",
              "      <th>FICO_716-750</th>\n",
              "      <th>FICO_751-780</th>\n",
              "      <th>FICO_781+</th>\n",
              "      <th>Home_Other</th>\n",
              "      <th>Home_Own</th>\n",
              "      <th>Home_Rent</th>\n",
              "      <th>Standing_default</th>\n",
              "      <th>Standing_late</th>\n",
              "      <th>Standing_no_due</th>\n",
              "      <th>Standing_paid</th>\n",
              "    </tr>\n",
              "  </thead>\n",
              "  <tbody>\n",
              "    <tr>\n",
              "      <th>0</th>\n",
              "      <td>57.445626</td>\n",
              "      <td>3300.0</td>\n",
              "      <td>111.29</td>\n",
              "      <td>5.772189</td>\n",
              "      <td>7.438384</td>\n",
              "      <td>1.565085</td>\n",
              "      <td>15</td>\n",
              "      <td>0.087</td>\n",
              "      <td>0.1306</td>\n",
              "      <td>0.0659</td>\n",
              "      <td>...</td>\n",
              "      <td>0</td>\n",
              "      <td>0</td>\n",
              "      <td>0</td>\n",
              "      <td>0</td>\n",
              "      <td>0</td>\n",
              "      <td>0</td>\n",
              "      <td>0</td>\n",
              "      <td>0</td>\n",
              "      <td>0</td>\n",
              "      <td>0</td>\n",
              "    </tr>\n",
              "    <tr>\n",
              "      <th>1</th>\n",
              "      <td>69.282032</td>\n",
              "      <td>4800.0</td>\n",
              "      <td>157.13</td>\n",
              "      <td>5.753759</td>\n",
              "      <td>7.408531</td>\n",
              "      <td>1.316074</td>\n",
              "      <td>12</td>\n",
              "      <td>0.000</td>\n",
              "      <td>0.1099</td>\n",
              "      <td>0.2370</td>\n",
              "      <td>...</td>\n",
              "      <td>1</td>\n",
              "      <td>0</td>\n",
              "      <td>0</td>\n",
              "      <td>0</td>\n",
              "      <td>0</td>\n",
              "      <td>1</td>\n",
              "      <td>0</td>\n",
              "      <td>0</td>\n",
              "      <td>0</td>\n",
              "      <td>0</td>\n",
              "    </tr>\n",
              "    <tr>\n",
              "      <th>2</th>\n",
              "      <td>93.273791</td>\n",
              "      <td>8700.0</td>\n",
              "      <td>272.15</td>\n",
              "      <td>8.585072</td>\n",
              "      <td>8.597237</td>\n",
              "      <td>1.821160</td>\n",
              "      <td>20</td>\n",
              "      <td>0.311</td>\n",
              "      <td>0.0788</td>\n",
              "      <td>0.1338</td>\n",
              "      <td>...</td>\n",
              "      <td>1</td>\n",
              "      <td>0</td>\n",
              "      <td>0</td>\n",
              "      <td>0</td>\n",
              "      <td>1</td>\n",
              "      <td>0</td>\n",
              "      <td>0</td>\n",
              "      <td>0</td>\n",
              "      <td>0</td>\n",
              "      <td>0</td>\n",
              "    </tr>\n",
              "    <tr>\n",
              "      <th>3</th>\n",
              "      <td>110.905365</td>\n",
              "      <td>1325.0</td>\n",
              "      <td>417.25</td>\n",
              "      <td>10.786159</td>\n",
              "      <td>7.888710</td>\n",
              "      <td>1.967990</td>\n",
              "      <td>22</td>\n",
              "      <td>0.291</td>\n",
              "      <td>0.1347</td>\n",
              "      <td>0.2208</td>\n",
              "      <td>...</td>\n",
              "      <td>0</td>\n",
              "      <td>0</td>\n",
              "      <td>0</td>\n",
              "      <td>0</td>\n",
              "      <td>0</td>\n",
              "      <td>1</td>\n",
              "      <td>0</td>\n",
              "      <td>0</td>\n",
              "      <td>0</td>\n",
              "      <td>1</td>\n",
              "    </tr>\n",
              "    <tr>\n",
              "      <th>4</th>\n",
              "      <td>105.830052</td>\n",
              "      <td>11200.0</td>\n",
              "      <td>343.89</td>\n",
              "      <td>5.666016</td>\n",
              "      <td>8.374092</td>\n",
              "      <td>1.898829</td>\n",
              "      <td>26</td>\n",
              "      <td>0.570</td>\n",
              "      <td>0.0662</td>\n",
              "      <td>0.1138</td>\n",
              "      <td>...</td>\n",
              "      <td>1</td>\n",
              "      <td>0</td>\n",
              "      <td>0</td>\n",
              "      <td>0</td>\n",
              "      <td>0</td>\n",
              "      <td>1</td>\n",
              "      <td>0</td>\n",
              "      <td>0</td>\n",
              "      <td>0</td>\n",
              "      <td>0</td>\n",
              "    </tr>\n",
              "  </tbody>\n",
              "</table>\n",
              "<p>5 rows × 46 columns</p>\n",
              "</div>"
            ],
            "text/plain": [
              "   Amt Requested  Amt Funded  Monthly Pmt  Pmts to Date    Income  Open LoC  \\\n",
              "0      57.445626      3300.0       111.29      5.772189  7.438384  1.565085   \n",
              "1      69.282032      4800.0       157.13      5.753759  7.408531  1.316074   \n",
              "2      93.273791      8700.0       272.15      8.585072  8.597237  1.821160   \n",
              "3     110.905365      1325.0       417.25     10.786159  7.888710  1.967990   \n",
              "4     105.830052     11200.0       343.89      5.666016  8.374092  1.898829   \n",
              "\n",
              "   Total LoC  Utilization    Rate     D/I      ...        FICO_716-750  \\\n",
              "0         15        0.087  0.1306  0.0659      ...                   0   \n",
              "1         12        0.000  0.1099  0.2370      ...                   1   \n",
              "2         20        0.311  0.0788  0.1338      ...                   1   \n",
              "3         22        0.291  0.1347  0.2208      ...                   0   \n",
              "4         26        0.570  0.0662  0.1138      ...                   1   \n",
              "\n",
              "   FICO_751-780  FICO_781+  Home_Other  Home_Own  Home_Rent  Standing_default  \\\n",
              "0             0          0           0         0          0                 0   \n",
              "1             0          0           0         0          1                 0   \n",
              "2             0          0           0         1          0                 0   \n",
              "3             0          0           0         0          1                 0   \n",
              "4             0          0           0         0          1                 0   \n",
              "\n",
              "   Standing_late  Standing_no_due  Standing_paid  \n",
              "0              0                0              0  \n",
              "1              0                0              0  \n",
              "2              0                0              0  \n",
              "3              0                0              1  \n",
              "4              0                0              0  \n",
              "\n",
              "[5 rows x 46 columns]"
            ]
          },
          "metadata": {
            "tags": []
          },
          "execution_count": 49
        }
      ]
    },
    {
      "metadata": {
        "id": "XQwdJX-YK-op",
        "colab_type": "code",
        "colab": {}
      },
      "cell_type": "code",
      "source": [
        "y = ['Rate']\n",
        "exclude_list = ['Rate','Amt Funded', 'Monthly Pmt', 'Total LoC']\n",
        "X = [i for i in final_loans_df.columns.values.tolist() if i not in exclude_list]"
      ],
      "execution_count": 0,
      "outputs": []
    },
    {
      "metadata": {
        "id": "g7GqjFMn6EcJ",
        "colab_type": "text"
      },
      "cell_type": "markdown",
      "source": [
        "## Model Building"
      ]
    },
    {
      "metadata": {
        "id": "lWvRVYvDLwrR",
        "colab_type": "code",
        "colab": {}
      },
      "cell_type": "code",
      "source": [
        "from sklearn.model_selection import train_test_split\n",
        "X_train, X_test, y_train, y_test = train_test_split(final_loans_df[X], final_loans_df[y], test_size=0.3, random_state=0)"
      ],
      "execution_count": 0,
      "outputs": []
    },
    {
      "metadata": {
        "id": "Bef-Sv7y6OYf",
        "colab_type": "text"
      },
      "cell_type": "markdown",
      "source": [
        "### Try decision tree regressor"
      ]
    },
    {
      "metadata": {
        "id": "g-7TBMRIMPXV",
        "colab_type": "code",
        "colab": {
          "base_uri": "https://localhost:8080/",
          "height": 35
        },
        "outputId": "cbdd09a7-e391-4fd4-8c51-a862449f6ea3"
      },
      "cell_type": "code",
      "source": [
        "from sklearn.tree import DecisionTreeRegressor\n",
        "from sklearn.model_selection import GridSearchCV\n",
        "\n",
        "parameters={'min_samples_split' : range(10,500,20),'max_depth': range(1,20,2)} \n",
        "clf_tree=DecisionTreeRegressor() \n",
        "clf=GridSearchCV(clf_tree,parameters) \n",
        "clf.fit(X_train,y_train)\n",
        "clf.best_params_"
      ],
      "execution_count": 53,
      "outputs": [
        {
          "output_type": "execute_result",
          "data": {
            "text/plain": [
              "{'max_depth': 13, 'min_samples_split': 70}"
            ]
          },
          "metadata": {
            "tags": []
          },
          "execution_count": 53
        }
      ]
    },
    {
      "metadata": {
        "id": "ebJ5aA7TMb1e",
        "colab_type": "code",
        "colab": {
          "base_uri": "https://localhost:8080/",
          "height": 35
        },
        "outputId": "2572a3fc-e927-426e-d30f-7561b6c072a6"
      },
      "cell_type": "code",
      "source": [
        "from sklearn.model_selection import cross_val_score\n",
        "\n",
        "dtreeR = DecisionTreeRegressor(max_depth=13, min_samples_split=70)\n",
        "dtreeR.fit(X_train, y_train)\n",
        "y_pred = dtreeR.predict(X_test)\n",
        "print('Score of decision tree regressor on test set: {:.2f}'.format(dtreeR.score(X_test, y_test)))"
      ],
      "execution_count": 54,
      "outputs": [
        {
          "output_type": "stream",
          "text": [
            "Score of decision tree regressor on test set: 0.82\n"
          ],
          "name": "stdout"
        }
      ]
    },
    {
      "metadata": {
        "id": "uQqoRl0D6SFl",
        "colab_type": "text"
      },
      "cell_type": "markdown",
      "source": [
        "### Extract important features from dtree regressor"
      ]
    },
    {
      "metadata": {
        "id": "6bnNsSxzOKJd",
        "colab_type": "code",
        "colab": {
          "base_uri": "https://localhost:8080/",
          "height": 402
        },
        "outputId": "4f12644c-2a58-4264-b9fd-72a07c7bacba"
      },
      "cell_type": "code",
      "source": [
        "importances = pd.DataFrame({'feature':X_train.columns,'importance':np.round(dtreeR.feature_importances_,3)})\n",
        "importances = importances.sort_values('importance',ascending=False).set_index('feature')\n",
        "importances = importances[importances.values > 0.00001]\n",
        "\n",
        "importances.plot.bar()"
      ],
      "execution_count": 55,
      "outputs": [
        {
          "output_type": "execute_result",
          "data": {
            "text/plain": [
              "<matplotlib.axes._subplots.AxesSubplot at 0x7facce7f2fd0>"
            ]
          },
          "metadata": {
            "tags": []
          },
          "execution_count": 55
        },
        {
          "output_type": "display_data",
          "data": {
            "image/png": "[encoded data removed]",
            "text/plain": [
              "<matplotlib.figure.Figure at 0x7facce847da0>"
            ]
          },
          "metadata": {
            "tags": []
          }
        }
      ]
    },
    {
      "metadata": {
        "id": "Fs2B0Fif6W2B",
        "colab_type": "text"
      },
      "cell_type": "markdown",
      "source": [
        "### Feature scale the features to fit it to a neural network"
      ]
    },
    {
      "metadata": {
        "id": "IjCBMwxxOr2J",
        "colab_type": "code",
        "colab": {}
      },
      "cell_type": "code",
      "source": [
        "from sklearn.preprocessing import StandardScaler\n",
        "sc = StandardScaler()\n",
        "X_train = sc.fit_transform(X_train)\n",
        "X_test = sc.transform(X_test)"
      ],
      "execution_count": 0,
      "outputs": []
    },
    {
      "metadata": {
        "id": "Yj1NfuGQ6cr-",
        "colab_type": "text"
      },
      "cell_type": "markdown",
      "source": [
        "### Import Keras"
      ]
    },
    {
      "metadata": {
        "id": "ZiMJ5mYRPILo",
        "colab_type": "code",
        "colab": {
          "base_uri": "https://localhost:8080/",
          "height": 35
        },
        "outputId": "5af4eceb-0482-44be-f297-a93a8f902abf"
      },
      "cell_type": "code",
      "source": [
        "import keras\n",
        "from keras.models import Sequential\n",
        "from keras.layers import Dense"
      ],
      "execution_count": 57,
      "outputs": [
        {
          "output_type": "stream",
          "text": [
            "Using TensorFlow backend.\n"
          ],
          "name": "stderr"
        }
      ]
    },
    {
      "metadata": {
        "id": "iq__6OmZQLiK",
        "colab_type": "code",
        "colab": {
          "base_uri": "https://localhost:8080/",
          "height": 35
        },
        "outputId": "43df5f50-6c89-4217-b0da-e2107d3673b3"
      },
      "cell_type": "code",
      "source": [
        "X_train.shape"
      ],
      "execution_count": 58,
      "outputs": [
        {
          "output_type": "execute_result",
          "data": {
            "text/plain": [
              "(20333, 42)"
            ]
          },
          "metadata": {
            "tags": []
          },
          "execution_count": 58
        }
      ]
    },
    {
      "metadata": {
        "id": "eMn5Cxd76fwN",
        "colab_type": "text"
      },
      "cell_type": "markdown",
      "source": [
        "### Build the neural network model\n",
        "\n",
        "1) Adam optimizer <br>\n",
        "2) Mean Squared Loss <br>\n",
        "3) Relu Activation <br>\n",
        "4) 100 epochs <br>\n",
        "5) Normal Kernel Initializer"
      ]
    },
    {
      "metadata": {
        "id": "BzKhHchbPfnl",
        "colab_type": "code",
        "colab": {
          "base_uri": "https://localhost:8080/",
          "height": 3572
        },
        "outputId": "8b307211-6a44-4489-a8b0-7299b30f71ce"
      },
      "cell_type": "code",
      "source": [
        "regressor = Sequential()\n",
        "regressor.add(Dense(6, activation = 'relu', input_dim = 42, kernel_initializer = 'normal'))\n",
        "regressor.add(Dense(6, activation = 'relu', kernel_initializer = 'normal'))\n",
        "regressor.add(Dense(1, activation = 'relu', kernel_initializer = 'normal'))\n",
        "regressor.compile(optimizer='adam', loss='mean_squared_error')\n",
        "regressor.fit(X_train, y_train, batch_size= 100, epochs=100)\n",
        "\n",
        "y_pred = regressor.predict(X_test)"
      ],
      "execution_count": 61,
      "outputs": [
        {
          "output_type": "stream",
          "text": [
            "Epoch 1/100\n",
            "20333/20333 [==============================] - 1s 59us/step - loss: 0.0029\n",
            "Epoch 2/100\n",
            "20333/20333 [==============================] - 1s 55us/step - loss: 3.5154e-04\n",
            "Epoch 3/100\n",
            "20333/20333 [==============================] - 1s 60us/step - loss: 2.9140e-04\n",
            "Epoch 4/100\n",
            "20333/20333 [==============================] - 1s 61us/step - loss: 2.7308e-04\n",
            "Epoch 5/100\n",
            "20333/20333 [==============================] - 1s 59us/step - loss: 2.6484e-04\n",
            "Epoch 6/100\n",
            "20333/20333 [==============================] - 1s 60us/step - loss: 2.6010e-04\n",
            "Epoch 7/100\n",
            "20333/20333 [==============================] - 1s 60us/step - loss: 2.5684e-04\n",
            "Epoch 8/100\n",
            "20333/20333 [==============================] - 1s 60us/step - loss: 2.5512e-04\n",
            "Epoch 9/100\n",
            "20333/20333 [==============================] - 1s 59us/step - loss: 2.5363e-04\n",
            "Epoch 10/100\n",
            " 1100/20333 [>.............................] - ETA: 1s - loss: 2.6357e-04"
          ],
          "name": "stdout"
        },
        {
          "output_type": "stream",
          "text": [
            "20333/20333 [==============================] - 1s 59us/step - loss: 2.5155e-04\n",
            "Epoch 11/100\n",
            "20333/20333 [==============================] - 1s 59us/step - loss: 2.5104e-04\n",
            "Epoch 12/100\n",
            "20333/20333 [==============================] - 1s 58us/step - loss: 2.5111e-04\n",
            "Epoch 13/100\n",
            "20333/20333 [==============================] - 1s 59us/step - loss: 2.4878e-04\n",
            "Epoch 14/100\n",
            "20333/20333 [==============================] - 1s 60us/step - loss: 2.4826e-04\n",
            "Epoch 15/100\n",
            "20333/20333 [==============================] - 1s 59us/step - loss: 2.4794e-04\n",
            "Epoch 16/100\n",
            "20333/20333 [==============================] - 1s 58us/step - loss: 2.4692e-04\n",
            "Epoch 17/100\n",
            "20333/20333 [==============================] - 1s 59us/step - loss: 2.4635e-04\n",
            "Epoch 18/100\n",
            "20333/20333 [==============================] - 1s 59us/step - loss: 2.4620e-04\n",
            "Epoch 19/100\n",
            " 3800/20333 [====>.........................] - ETA: 0s - loss: 2.5545e-04"
          ],
          "name": "stdout"
        },
        {
          "output_type": "stream",
          "text": [
            "20333/20333 [==============================] - 1s 59us/step - loss: 2.4562e-04\n",
            "Epoch 20/100\n",
            "20333/20333 [==============================] - 1s 58us/step - loss: 2.4440e-04\n",
            "Epoch 21/100\n",
            "20333/20333 [==============================] - 1s 58us/step - loss: 2.4480e-04\n",
            "Epoch 22/100\n",
            "20333/20333 [==============================] - 1s 59us/step - loss: 2.4480e-04\n",
            "Epoch 23/100\n",
            "20333/20333 [==============================] - 1s 60us/step - loss: 2.4578e-04\n",
            "Epoch 24/100\n",
            "20333/20333 [==============================] - 1s 58us/step - loss: 2.4391e-04\n",
            "Epoch 25/100\n",
            "20333/20333 [==============================] - 1s 59us/step - loss: 2.4422e-04\n",
            "Epoch 26/100\n",
            "20333/20333 [==============================] - 1s 60us/step - loss: 2.4284e-04\n",
            "Epoch 27/100\n",
            "20333/20333 [==============================] - 1s 59us/step - loss: 2.4415e-04\n",
            "Epoch 28/100\n",
            " 3700/20333 [====>.........................] - ETA: 0s - loss: 2.4386e-04"
          ],
          "name": "stdout"
        },
        {
          "output_type": "stream",
          "text": [
            "20333/20333 [==============================] - 1s 58us/step - loss: 2.4272e-04\n",
            "Epoch 29/100\n",
            "20333/20333 [==============================] - 1s 58us/step - loss: 2.4222e-04\n",
            "Epoch 30/100\n",
            "20333/20333 [==============================] - 1s 58us/step - loss: 2.4122e-04\n",
            "Epoch 31/100\n",
            "20333/20333 [==============================] - 1s 59us/step - loss: 2.4191e-04\n",
            "Epoch 32/100\n",
            "20333/20333 [==============================] - 1s 59us/step - loss: 2.4154e-04\n",
            "Epoch 33/100\n",
            "20333/20333 [==============================] - 1s 59us/step - loss: 2.4188e-04\n",
            "Epoch 34/100\n",
            "20333/20333 [==============================] - 1s 58us/step - loss: 2.4126e-04\n",
            "Epoch 35/100\n",
            "20333/20333 [==============================] - 1s 59us/step - loss: 2.4091e-04\n",
            "Epoch 36/100\n",
            "20333/20333 [==============================] - 1s 58us/step - loss: 2.4056e-04\n",
            "Epoch 37/100\n",
            " 4900/20333 [======>.......................] - ETA: 0s - loss: 2.4389e-04"
          ],
          "name": "stdout"
        },
        {
          "output_type": "stream",
          "text": [
            "20333/20333 [==============================] - 1s 57us/step - loss: 2.4104e-04\n",
            "Epoch 38/100\n",
            "20333/20333 [==============================] - 1s 59us/step - loss: 2.4040e-04\n",
            "Epoch 39/100\n",
            "20333/20333 [==============================] - 1s 57us/step - loss: 2.4115e-04\n",
            "Epoch 40/100\n",
            "20333/20333 [==============================] - 1s 59us/step - loss: 2.3969e-04\n",
            "Epoch 41/100\n",
            "20333/20333 [==============================] - 1s 58us/step - loss: 2.3968e-04\n",
            "Epoch 42/100\n",
            "20333/20333 [==============================] - 1s 60us/step - loss: 2.3995e-04\n",
            "Epoch 43/100\n",
            "20333/20333 [==============================] - 1s 59us/step - loss: 2.3922e-04\n",
            "Epoch 44/100\n",
            "20333/20333 [==============================] - 1s 57us/step - loss: 2.4010e-04\n",
            "Epoch 45/100\n",
            "20333/20333 [==============================] - 1s 59us/step - loss: 2.4036e-04\n",
            "Epoch 46/100\n",
            " 4500/20333 [=====>........................] - ETA: 0s - loss: 2.3561e-04"
          ],
          "name": "stdout"
        },
        {
          "output_type": "stream",
          "text": [
            "20333/20333 [==============================] - 1s 59us/step - loss: 2.3925e-04\n",
            "Epoch 47/100\n",
            "20333/20333 [==============================] - 1s 59us/step - loss: 2.3916e-04\n",
            "Epoch 48/100\n",
            "20333/20333 [==============================] - 1s 58us/step - loss: 2.4045e-04\n",
            "Epoch 49/100\n",
            "20333/20333 [==============================] - 1s 57us/step - loss: 2.3914e-04\n",
            "Epoch 50/100\n",
            "20333/20333 [==============================] - 1s 59us/step - loss: 2.3957e-04\n",
            "Epoch 51/100\n",
            "20333/20333 [==============================] - 1s 59us/step - loss: 2.3920e-04\n",
            "Epoch 52/100\n",
            "20333/20333 [==============================] - 1s 57us/step - loss: 2.4022e-04\n",
            "Epoch 53/100\n",
            "20333/20333 [==============================] - 1s 57us/step - loss: 2.3769e-04\n",
            "Epoch 54/100\n",
            "20333/20333 [==============================] - 1s 58us/step - loss: 2.3757e-04\n",
            "Epoch 55/100\n",
            " 4800/20333 [======>.......................] - ETA: 0s - loss: 2.2505e-04"
          ],
          "name": "stdout"
        },
        {
          "output_type": "stream",
          "text": [
            "20333/20333 [==============================] - 1s 59us/step - loss: 2.3821e-04\n",
            "Epoch 56/100\n",
            "20333/20333 [==============================] - 1s 58us/step - loss: 2.3708e-04\n",
            "Epoch 57/100\n",
            "20333/20333 [==============================] - 1s 57us/step - loss: 2.3764e-04\n",
            "Epoch 58/100\n",
            "20333/20333 [==============================] - 1s 56us/step - loss: 2.3804e-04\n",
            "Epoch 59/100\n",
            "20333/20333 [==============================] - 1s 56us/step - loss: 2.3791e-04\n",
            "Epoch 60/100\n",
            "20333/20333 [==============================] - 1s 56us/step - loss: 2.3852e-04\n",
            "Epoch 61/100\n",
            "20333/20333 [==============================] - 1s 56us/step - loss: 2.3788e-04\n",
            "Epoch 62/100\n",
            "20333/20333 [==============================] - 1s 56us/step - loss: 2.3642e-04\n",
            "Epoch 63/100\n",
            "20333/20333 [==============================] - 1s 58us/step - loss: 2.3770e-04\n",
            "Epoch 64/100\n",
            " 5800/20333 [=======>......................] - ETA: 0s - loss: 2.4299e-04"
          ],
          "name": "stdout"
        },
        {
          "output_type": "stream",
          "text": [
            "20333/20333 [==============================] - 1s 57us/step - loss: 2.3727e-04\n",
            "Epoch 65/100\n",
            "20333/20333 [==============================] - 1s 58us/step - loss: 2.3655e-04\n",
            "Epoch 66/100\n",
            "20333/20333 [==============================] - 1s 59us/step - loss: 2.3718e-04\n",
            "Epoch 67/100\n",
            "20333/20333 [==============================] - 1s 58us/step - loss: 2.3679e-04\n",
            "Epoch 68/100\n",
            "20333/20333 [==============================] - 1s 57us/step - loss: 2.3637e-04\n",
            "Epoch 69/100\n",
            "20333/20333 [==============================] - 1s 58us/step - loss: 2.3675e-04\n",
            "Epoch 70/100\n",
            "20333/20333 [==============================] - 1s 58us/step - loss: 2.3646e-04\n",
            "Epoch 71/100\n",
            "20333/20333 [==============================] - 1s 59us/step - loss: 2.3641e-04\n",
            "Epoch 72/100\n",
            "20333/20333 [==============================] - 1s 57us/step - loss: 2.3683e-04\n",
            "Epoch 73/100\n",
            " 2900/20333 [===>..........................] - ETA: 0s - loss: 2.4460e-04"
          ],
          "name": "stdout"
        },
        {
          "output_type": "stream",
          "text": [
            "20333/20333 [==============================] - 1s 57us/step - loss: 2.3622e-04\n",
            "Epoch 74/100\n",
            "20333/20333 [==============================] - 1s 58us/step - loss: 2.3533e-04\n",
            "Epoch 75/100\n",
            "20333/20333 [==============================] - 1s 58us/step - loss: 2.3535e-04\n",
            "Epoch 76/100\n",
            "20333/20333 [==============================] - 1s 58us/step - loss: 2.3605e-04\n",
            "Epoch 77/100\n",
            "20333/20333 [==============================] - 1s 57us/step - loss: 2.3544e-04\n",
            "Epoch 78/100\n",
            "20333/20333 [==============================] - 1s 56us/step - loss: 2.3595e-04\n",
            "Epoch 79/100\n",
            "20333/20333 [==============================] - 1s 57us/step - loss: 2.3516e-04\n",
            "Epoch 80/100\n",
            "20333/20333 [==============================] - 1s 57us/step - loss: 2.3603e-04\n",
            "Epoch 81/100\n",
            "20333/20333 [==============================] - 1s 59us/step - loss: 2.3572e-04\n",
            "Epoch 82/100\n",
            " 3900/20333 [====>.........................] - ETA: 0s - loss: 2.2597e-04"
          ],
          "name": "stdout"
        },
        {
          "output_type": "stream",
          "text": [
            "20333/20333 [==============================] - 1s 57us/step - loss: 2.3453e-04\n",
            "Epoch 83/100\n",
            "20333/20333 [==============================] - 1s 56us/step - loss: 2.3591e-04\n",
            "Epoch 84/100\n",
            "20333/20333 [==============================] - 1s 57us/step - loss: 2.3535e-04\n",
            "Epoch 85/100\n",
            "20333/20333 [==============================] - 1s 57us/step - loss: 2.3559e-04\n",
            "Epoch 86/100\n",
            "20333/20333 [==============================] - 1s 57us/step - loss: 2.3429e-04\n",
            "Epoch 87/100\n",
            "20333/20333 [==============================] - 1s 58us/step - loss: 2.3512e-04\n",
            "Epoch 88/100\n",
            "20333/20333 [==============================] - 1s 58us/step - loss: 2.3472e-04\n",
            "Epoch 89/100\n",
            "20333/20333 [==============================] - 1s 58us/step - loss: 2.3461e-04\n",
            "Epoch 90/100\n",
            "20333/20333 [==============================] - 1s 56us/step - loss: 2.3417e-04\n",
            "Epoch 91/100\n",
            " 4800/20333 [======>.......................] - ETA: 0s - loss: 2.3903e-04"
          ],
          "name": "stdout"
        },
        {
          "output_type": "stream",
          "text": [
            "20333/20333 [==============================] - 1s 57us/step - loss: 2.3457e-04\n",
            "Epoch 92/100\n",
            "20333/20333 [==============================] - 1s 57us/step - loss: 2.3461e-04\n",
            "Epoch 93/100\n",
            "20333/20333 [==============================] - 1s 57us/step - loss: 2.3400e-04\n",
            "Epoch 94/100\n",
            "20333/20333 [==============================] - 1s 58us/step - loss: 2.3596e-04\n",
            "Epoch 95/100\n",
            "20333/20333 [==============================] - 1s 58us/step - loss: 2.3403e-04\n",
            "Epoch 96/100\n",
            "20333/20333 [==============================] - 1s 57us/step - loss: 2.3436e-04\n",
            "Epoch 97/100\n",
            "20333/20333 [==============================] - 1s 57us/step - loss: 2.3500e-04\n",
            "Epoch 98/100\n",
            "20333/20333 [==============================] - 1s 59us/step - loss: 2.3463e-04\n",
            "Epoch 99/100\n",
            "20333/20333 [==============================] - 1s 56us/step - loss: 2.3441e-04\n",
            "Epoch 100/100\n",
            " 5800/20333 [=======>......................] - ETA: 0s - loss: 2.3363e-04"
          ],
          "name": "stdout"
        },
        {
          "output_type": "stream",
          "text": [
            "20333/20333 [==============================] - 1s 57us/step - loss: 2.3439e-04\n"
          ],
          "name": "stdout"
        }
      ]
    },
    {
      "metadata": {
        "id": "SC0oUGuK6kBg",
        "colab_type": "text"
      },
      "cell_type": "markdown",
      "source": [
        "### Model Evaluation"
      ]
    },
    {
      "metadata": {
        "id": "nowPMoGnQGDM",
        "colab_type": "code",
        "colab": {
          "base_uri": "https://localhost:8080/",
          "height": 35
        },
        "outputId": "f77b6874-040b-4b2a-92fd-67060fdf1db5"
      },
      "cell_type": "code",
      "source": [
        "from sklearn.metrics import r2_score\n",
        "r2_score(y_test, y_pred)"
      ],
      "execution_count": 62,
      "outputs": [
        {
          "output_type": "execute_result",
          "data": {
            "text/plain": [
              "0.8337000493601427"
            ]
          },
          "metadata": {
            "tags": []
          },
          "execution_count": 62
        }
      ]
    },
    {
      "metadata": {
        "id": "zYuGerRj4fJc",
        "colab_type": "text"
      },
      "cell_type": "markdown",
      "source": [
        "## Future Improvements"
      ]
    },
    {
      "metadata": {
        "id": "s3eVu4Dn4iYW",
        "colab_type": "text"
      },
      "cell_type": "markdown",
      "source": [
        "1) Tune the neural network to see if there is any imporvement in performance <br>\n",
        "2) Get More Data and  fit it to the neural model <br>\n",
        "3) Try fitting the neural model with only important features <br>\n",
        "4) Remove Categorical features and fit the neural network with only numerical features <br>\n",
        "5) Perform Dimensionality reduction on a higher dimension <br>"
      ]
    },
    {
      "metadata": {
        "id": "dnUzqanrSctl",
        "colab_type": "code",
        "colab": {}
      },
      "cell_type": "code",
      "source": [
        ""
      ],
      "execution_count": 0,
      "outputs": []
    },
    {
      "metadata": {
        "id": "Cp3F1EicTz8k",
        "colab_type": "code",
        "colab": {}
      },
      "cell_type": "code",
      "source": [
        ""
      ],
      "execution_count": 0,
      "outputs": []
    }
  ]
}